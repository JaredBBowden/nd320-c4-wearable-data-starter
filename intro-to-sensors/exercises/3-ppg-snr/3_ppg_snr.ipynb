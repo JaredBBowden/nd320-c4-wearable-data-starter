{
  "nbformat": 4,
  "nbformat_minor": 0,
  "metadata": {
    "kernelspec": {
      "display_name": "Python 3",
      "language": "python",
      "name": "python3"
    },
    "language_info": {
      "codemirror_mode": {
        "name": "ipython",
        "version": 3
      },
      "file_extension": ".py",
      "mimetype": "text/x-python",
      "name": "python",
      "nbconvert_exporter": "python",
      "pygments_lexer": "ipython3",
      "version": "3.7.4"
    },
    "colab": {
      "name": "3_ppg_snr.ipynb",
      "provenance": []
    }
  },
  "cells": [
    {
      "cell_type": "markdown",
      "metadata": {
        "id": "jscC2ocN9p0X"
      },
      "source": [
        "# Exercise 3: PPG SNR\n",
        "\n",
        "A useful task for evaluating PPG signals is computing the signal-to-noise ratio (SNR). The SNR of a signal is a measure of how noisy the signal. High SNRs mean that the signal has very little noise. Often times, calculating the SNR is more of an art than a science because very often, we don't know which parts of the signal are noise and which are not.\n",
        "\n",
        "When you have a PPG signal with a contemporaneous reference pulse rate, you can use that pulse rate to approximate the SNR of the PPG signal. Ideally, most of the energy in the Fourier transform of the signal should be concentrated around the pulse rate frequency (and any harmonics of that frequency). So one measure of SNR would be the ratio of energy around the pulse rate frequency (and harmonics) to the amount of energy elsewhere.\n",
        "\n",
        "This exercise will guide you through this process for three different signals."
      ]
    },
    {
      "cell_type": "markdown",
      "metadata": {
        "id": "Unok_H3b9p0c"
      },
      "source": [
        "## Imports"
      ]
    },
    {
      "cell_type": "code",
      "metadata": {
        "id": "O3QrghGJ9p0c"
      },
      "source": [
        "import numpy as np\n",
        "from matplotlib import pyplot as plt"
      ],
      "execution_count": null,
      "outputs": []
    },
    {
      "cell_type": "code",
      "metadata": {
        "id": "ycWJuocs9p0d"
      },
      "source": [
        "import mpld3\n",
        "mpld3.enable_notebook()"
      ],
      "execution_count": null,
      "outputs": []
    },
    {
      "cell_type": "markdown",
      "metadata": {
        "id": "kA9_QUwr9p0d"
      },
      "source": [
        "## Load Data"
      ]
    },
    {
      "cell_type": "markdown",
      "metadata": {
        "id": "dUKPg3Om9p0d"
      },
      "source": [
        "You are given 3 different signals along with the average heart rate for that signal in beats per minute (BPM)."
      ]
    },
    {
      "cell_type": "code",
      "metadata": {
        "id": "Cx3spaHz9p0e"
      },
      "source": [
        "fs = 125\n",
        "with np.load('./exercise3.npz') as npz:\n",
        "    sig0 = npz['sig0']\n",
        "    hr0_bpm = npz['hr0_bpm']\n",
        "    sig1 = npz['sig1']\n",
        "    hr1_bpm = npz['hr1_bpm']\n",
        "    sig2 = npz['sig2']\n",
        "    hr2_bpm = npz['hr2_bpm']"
      ],
      "execution_count": null,
      "outputs": []
    },
    {
      "cell_type": "markdown",
      "metadata": {
        "id": "6hzyMTeD9p0e"
      },
      "source": [
        "## Data Exploration"
      ]
    },
    {
      "cell_type": "markdown",
      "metadata": {
        "id": "j3N6J4u_9p0e"
      },
      "source": [
        "Use this space to explore your data. Plot your signals and the Fourier transforms. Think about which signals have a higher SNR and what you notice about their FFTs."
      ]
    },
    {
      "cell_type": "code",
      "metadata": {
        "id": "4PieIZcJ9p0e"
      },
      "source": [
        ""
      ],
      "execution_count": null,
      "outputs": []
    },
    {
      "cell_type": "markdown",
      "metadata": {
        "id": "wNRhH4AI9p0e"
      },
      "source": [
        "## Calculate SNR Function\n",
        "\n",
        "The SNR is the ratio of signal power to noise power. To calculate the signal power:\n",
        "  - compute the FFT of the signal\n",
        "  - calculating the signal power by:\n",
        "    - summing the FFT magnitudes in a window of 5 BPM around the frequency of the average heart rate\n",
        "    - and summing the FFT magnitudes in a window of 5 BPM around the first harmonic of the average heart rate\n",
        "  - calculate the noise power by:\n",
        "    - summing the FFT magnitudes everywhere else\n",
        "  - divide the signal power by the noise power"
      ]
    },
    {
      "cell_type": "code",
      "metadata": {
        "id": "dJTwfWK09p0f"
      },
      "source": [
        "def CalcSNR(sig, hr_bpm):\n",
        "    # Our data is sampled at 125 Hz\n",
        "    fs = 125\n",
        "    \n",
        "    # Convert to Hz\n",
        "    hr_f = hr_bpm / 60\n",
        "    \n",
        "    # Calculate the frequency of the first harmonic\n",
        "    # The first spike is the signal, the first harmonic is the same position, one period (?) away. \n",
        "    harmonic_f = hr_f * 2\n",
        "    \n",
        "    # Compute the FFT of the signal\n",
        "    freq = np.fft.rfftfreq(len(sig), 1/fs)\n",
        "    fft_mag = np.abs(np.fft.rfft(sig))\n",
        "    \n",
        "    # Lastly, we're going to find frequncies that around the HR and the first harmonic of the HR\n",
        "    window_f = 5 / 60 # note that this is 5 BPM in Hz\n",
        "    fundamental_frequency_window = (freqs > hr_f - window_f) & (freqs < hr_f + window_f)\n",
        "    \n",
        "    # Do the same thing for the harmonic frequency \n",
        "    harmonic_frequency_window = (freqs > harmonic_f - window_f) & (freqs < harmonic_f + window_f)\n",
        "    \n",
        "    # Compute signal power and noise power\n",
        "    # Sure. OK. \n",
        "    signal_power =  np.sum(fft_mag[(fundamental_frequency_window) |  (harmonic_frequency_window)])\n",
        "    noise_power = np.sum(fft_mag[(~(fundamental_frequency_window) |  (harmonic_frequency_window))])\n",
        "\n",
        "    # Compute SNR\n",
        "    snr = signal_power / noise_power\n",
        "    return snr"
      ],
      "execution_count": null,
      "outputs": []
    },
    {
      "cell_type": "markdown",
      "metadata": {
        "id": "T_pbYeP_9p0f"
      },
      "source": [
        "## Compute SNR on our signals\n",
        "\n",
        "Now run the CalcSNR function on our signals and see if they match up with the expected results."
      ]
    },
    {
      "cell_type": "code",
      "metadata": {
        "id": "MLgegC-r9p0f"
      },
      "source": [
        "snr0 = CalcSNR(sig0, hr0_bpm)\n",
        "snr0"
      ],
      "execution_count": null,
      "outputs": []
    },
    {
      "cell_type": "code",
      "metadata": {
        "id": "x6c1mzSk9p0f"
      },
      "source": [
        "snr1 = CalcSNR(sig1, hr1_bpm)\n",
        "snr1"
      ],
      "execution_count": null,
      "outputs": []
    },
    {
      "cell_type": "code",
      "metadata": {
        "id": "ogoPuRDw9p0g"
      },
      "source": [
        "snr2 = CalcSNR(sig2, hr2_bpm)\n",
        "snr2"
      ],
      "execution_count": null,
      "outputs": []
    },
    {
      "cell_type": "code",
      "metadata": {
        "id": "5U2W5B2T9p0g"
      },
      "source": [
        "plt.figure(figsize=(10, 6))\n",
        "plt.plot(sig0, label='{:0.2f}'.format(snr0)) \n",
        "plt.plot(sig1, label='{:0.2f}'.format(snr1))\n",
        "plt.plot(sig2, label='{:0.2f}'.format(snr2))\n",
        "plt.legend()"
      ],
      "execution_count": null,
      "outputs": []
    }
  ]
}