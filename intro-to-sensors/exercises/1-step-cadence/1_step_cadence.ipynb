{
  "nbformat": 4,
  "nbformat_minor": 0,
  "metadata": {
    "kernelspec": {
      "display_name": "Python 3",
      "language": "python",
      "name": "python3"
    },
    "language_info": {
      "codemirror_mode": {
        "name": "ipython",
        "version": 3
      },
      "file_extension": ".py",
      "mimetype": "text/x-python",
      "name": "python",
      "nbconvert_exporter": "python",
      "pygments_lexer": "ipython3",
      "version": "3.6.3"
    },
    "colab": {
      "name": "1_step_cadence.ipynb",
      "provenance": []
    }
  },
  "cells": [
    {
      "cell_type": "markdown",
      "metadata": {
        "id": "tYtwuORxB4sy"
      },
      "source": [
        "# Exercise 1: Step Cadence\n",
        "In this exercise, you are given an wrist-worn accelerometer signal of someone who is running. Using your knowledge of signal processing from the last lesson, what you just learned about accelerometers, and the information below, estimate the distance that the wearer ran.\n",
        "\n",
        "- The step rate is the largest frequency component in the accelerometer signal\n",
        "- The wearer's average step length is 55 inches\n",
        "\n",
        "## Imports"
      ]
    },
    {
      "cell_type": "code",
      "metadata": {
        "id": "YV__OBE9B4s2"
      },
      "source": [
        "from matplotlib import pyplot as plt\n",
        "import numpy as np"
      ],
      "execution_count": null,
      "outputs": []
    },
    {
      "cell_type": "markdown",
      "metadata": {
        "id": "XoGfD88wB4s2"
      },
      "source": [
        "## Load Data"
      ]
    },
    {
      "cell_type": "code",
      "metadata": {
        "id": "RsTZ1ax7B4s2"
      },
      "source": [
        "with np.load('exercise1.npz') as npz:\n",
        "    fs = npz['fs']    # The sampling rate \n",
        "    acc = npz['acc']  # The accelerometer signal"
      ],
      "execution_count": null,
      "outputs": []
    },
    {
      "cell_type": "markdown",
      "metadata": {
        "id": "umm6_gn2B4s3"
      },
      "source": [
        "## Estimate Distance Ran"
      ]
    },
    {
      "cell_type": "code",
      "metadata": {
        "id": "rK2tlMvMB4s3"
      },
      "source": [
        "plt.figure(figsize=(12, 8))\n",
        "\n",
        "spec, freqs, _, _ = plt.specgram(acc, NFFT=fs * 10, Fs=fs, noverlap=0)\n",
        "\n",
        "plt.ylim(0, 10)"
      ],
      "execution_count": null,
      "outputs": []
    },
    {
      "cell_type": "code",
      "metadata": {
        "id": "nJliPeVhB7KO"
      },
      "source": [
        "# The bands of power are going to be the step rate (as well as the harmonics of this signal)\n",
        "\n",
        "# Note also that we can pull our the frequency of this band\n",
        "spec.shape"
      ],
      "execution_count": null,
      "outputs": []
    },
    {
      "cell_type": "code",
      "metadata": {
        "id": "8AxxdpHSB8Du"
      },
      "source": [
        "# We can get the step count by looking at the largest frequency count for each window\n",
        "step_rate = freqs[np.argmax(spec, axis=0)]\n",
        "\n",
        "step_rate # 1.9Hz"
      ],
      "execution_count": null,
      "outputs": []
    },
    {
      "cell_type": "code",
      "metadata": {
        "id": "s_n_csp2B8Iz"
      },
      "source": [
        "# Now we can compute average inches per second by multiplying step rate with step length\n",
        "avg_inches_per_second = step_rate * 55"
      ],
      "execution_count": null,
      "outputs": []
    },
    {
      "cell_type": "code",
      "metadata": {
        "id": "ySxQe4ZdB8Na"
      },
      "source": [
        "# There's more... We also need to know the time of each window (10)\n",
        "total_inches_per_window = avg_inches_per_second * 10\n",
        "\n",
        "# Then compute the total number of inches within that window\n",
        "total_distance_inches = np.sum(total_inches_per_window)\n",
        "\n",
        "# And then we compute a more intelligible unit\n",
        "miles = total_distance_inches / 12 / 5280\n",
        "\n",
        "miles"
      ],
      "execution_count": null,
      "outputs": []
    },
    {
      "cell_type": "code",
      "metadata": {
        "id": "VuZCN8T-B8Rd"
      },
      "source": [
        "# We can also compute speed by using the total time of our recording\n",
        "total_time_min= len(acc) / fs / 60\n",
        "\n",
        "ave_speed = total_time_min / miles\n",
        "\n",
        "ave_speed"
      ],
      "execution_count": null,
      "outputs": []
    },
    {
      "cell_type": "code",
      "metadata": {
        "id": "lBPQftQ6B8VY"
      },
      "source": [
        ""
      ],
      "execution_count": null,
      "outputs": []
    },
    {
      "cell_type": "code",
      "metadata": {
        "id": "-8g4-l0rB8ZO"
      },
      "source": [
        ""
      ],
      "execution_count": null,
      "outputs": []
    }
  ]
}