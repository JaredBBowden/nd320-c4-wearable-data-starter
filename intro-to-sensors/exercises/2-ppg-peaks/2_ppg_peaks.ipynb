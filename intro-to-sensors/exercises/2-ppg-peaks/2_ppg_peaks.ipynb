{
  "nbformat": 4,
  "nbformat_minor": 0,
  "metadata": {
    "kernelspec": {
      "display_name": "Python 3",
      "language": "python",
      "name": "python3"
    },
    "language_info": {
      "codemirror_mode": {
        "name": "ipython",
        "version": 3
      },
      "file_extension": ".py",
      "mimetype": "text/x-python",
      "name": "python",
      "nbconvert_exporter": "python",
      "pygments_lexer": "ipython3",
      "version": "3.6.3"
    },
    "colab": {
      "name": "2_ppg_peaks.ipynb",
      "provenance": []
    }
  },
  "cells": [
    {
      "cell_type": "markdown",
      "metadata": {
        "id": "3zpuK-rV96FB"
      },
      "source": [
        "# Exercise 2: PPG Peaks\n",
        "\n",
        "In this exercise you will estimate pulse rate using the PPG signal in the time domain. In the video lesson we saw an example of how to estimate pulse rate using the frequency domain and this method was necessary because that PPG waveform was corrupted by motion. The PPG segment you will be provided for this exercise was collected at rest, so it is possible to see the heart beats in the time-domain as below:\n",
        "\n",
        "![PPG Peaks](ppg_peaks.png \"PPG Peaks\")\n",
        "\n",
        "Your task is to find the peaks using the [`scipy.signal.find_peaks`](https://docs.scipy.org/doc/scipy/reference/generated/scipy.signal.find_peaks.html) function. To be successful at this task you will need to call the `find_peaks` with appropriate arguments, so you will need to experiment and read the documentation."
      ]
    },
    {
      "cell_type": "markdown",
      "metadata": {
        "id": "QPyRlUR096FF"
      },
      "source": [
        "## Imports"
      ]
    },
    {
      "cell_type": "code",
      "metadata": {
        "id": "FKUqZlqk96FF"
      },
      "source": [
        "from matplotlib import pyplot as plt\n",
        "import numpy as np\n",
        "import scipy as sp\n",
        "import scipy.signal"
      ],
      "execution_count": null,
      "outputs": []
    },
    {
      "cell_type": "markdown",
      "metadata": {
        "id": "oX5z-zGV96FF"
      },
      "source": [
        "## Load Data"
      ]
    },
    {
      "cell_type": "code",
      "metadata": {
        "id": "to6ZaimZ96FG"
      },
      "source": [
        "with np.load(\"exercise2.npz\") as npz:\n",
        "    fs = npz['fs']    # The sampling rate\n",
        "    ppg = npz['ppg']  # The PPG signal"
      ],
      "execution_count": null,
      "outputs": []
    },
    {
      "cell_type": "markdown",
      "metadata": {
        "id": "z_7ieRIb96FG"
      },
      "source": [
        "## Scipy Find Peaks Stub\n",
        "\n",
        "This is just an example to help you get started. You will need to modify this call to `find_peaks` to accurately detect only the ppg peaks. Try plotting the output to see if your peak finding is working correctly."
      ]
    },
    {
      "cell_type": "code",
      "metadata": {
        "id": "B68FBreB96FG"
      },
      "source": [
        "pks = sp.signal.find_peaks(ppg)[0]"
      ],
      "execution_count": null,
      "outputs": []
    },
    {
      "cell_type": "markdown",
      "metadata": {
        "id": "90-NjJYI96FG"
      },
      "source": [
        "## Find Peaks"
      ]
    },
    {
      "cell_type": "code",
      "metadata": {
        "id": "qptjk-gb96FH"
      },
      "source": [
        "# Compute peaks, and subset relevant information\n",
        "pks = sp.signal.find_peaks(ppg, height=15, distance=35)[0]\n",
        "\n",
        "# Plot original signal\n",
        "plt.plot(ppg)\n",
        "\n",
        "# Plot peaks\n",
        "plt.plot(pks, ppg[pks], 'r.', ms=10)"
      ],
      "execution_count": null,
      "outputs": []
    },
    {
      "cell_type": "markdown",
      "metadata": {
        "id": "-Vko13DQ96FH"
      },
      "source": [
        "## Compute Average Pulse Rate"
      ]
    },
    {
      "cell_type": "code",
      "metadata": {
        "id": "8g70-P6m96FH"
      },
      "source": [
        "np.mean(60 / (np.diff(pks) / fs))"
      ],
      "execution_count": null,
      "outputs": []
    }
  ]
}