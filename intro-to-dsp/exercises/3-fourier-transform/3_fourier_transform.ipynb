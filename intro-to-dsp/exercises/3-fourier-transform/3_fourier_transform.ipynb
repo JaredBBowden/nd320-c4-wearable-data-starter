{
  "nbformat": 4,
  "nbformat_minor": 0,
  "metadata": {
    "kernelspec": {
      "display_name": "Python 3",
      "language": "python",
      "name": "python3"
    },
    "language_info": {
      "codemirror_mode": {
        "name": "ipython",
        "version": 3
      },
      "file_extension": ".py",
      "mimetype": "text/x-python",
      "name": "python",
      "nbconvert_exporter": "python",
      "pygments_lexer": "ipython3",
      "version": "3.6.3"
    },
    "colab": {
      "name": "3_fourier_transform.ipynb",
      "provenance": []
    }
  },
  "cells": [
    {
      "cell_type": "markdown",
      "metadata": {
        "id": "mwDC5_0d37XE"
      },
      "source": [
        "# Exercise 3: Fourier Transform"
      ]
    },
    {
      "cell_type": "markdown",
      "metadata": {
        "id": "I3krRqrn37XK"
      },
      "source": [
        "You are given a signal that is composed of 5 sinusoids of varying frequency and amplitude added together. The signal is sampled at 125 Hz. Plot the Fourier transform to figure out the frequencies and the relative amplitudes of each of the sinusoids that comprise the signal. Find the frequencies in order from largest amplitude to smallest (note this will not be the same as highest frequency to lowest)."
      ]
    },
    {
      "cell_type": "markdown",
      "metadata": {
        "id": "Qe1Pipd737XL"
      },
      "source": [
        "## Imports"
      ]
    },
    {
      "cell_type": "code",
      "metadata": {
        "id": "EjvNk0uo37XL"
      },
      "source": [
        "import numpy as np\n",
        "from matplotlib import pyplot as plt"
      ],
      "execution_count": null,
      "outputs": []
    },
    {
      "cell_type": "markdown",
      "metadata": {
        "id": "blenz4zm37XL"
      },
      "source": [
        "## Load Data"
      ]
    },
    {
      "cell_type": "code",
      "metadata": {
        "id": "gOXnU4Od37XM"
      },
      "source": [
        "npz = np.load(\"./exercise3.npz\")\n",
        "sig = npz['signal']"
      ],
      "execution_count": null,
      "outputs": []
    },
    {
      "cell_type": "markdown",
      "metadata": {
        "id": "9jyXfPmO37XM"
      },
      "source": [
        "## Find Largest Frequency Components"
      ]
    },
    {
      "cell_type": "code",
      "metadata": {
        "id": "C2vhkB-M37XN"
      },
      "source": [
        "## Your Code Goes Here\n",
        "# OK, we know that we're working with 125Hz\n",
        "fs = 125\n",
        "\n",
        "frequencies = np.fft.rfftfreq(len(sig), 1/fs)\n",
        "coefficients = np.abs(np.fft.rfft(sig))\n",
        "\n",
        "plt.plot(frequencies, coefficients)       "
      ],
      "execution_count": null,
      "outputs": []
    },
    {
      "cell_type": "markdown",
      "metadata": {
        "id": "XQKCfnp-37XN"
      },
      "source": [
        "List the frequency components from largest to smallest. <br>\n",
        "**TODO**"
      ]
    }
  ]
}