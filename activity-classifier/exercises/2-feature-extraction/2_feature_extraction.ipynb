{
  "nbformat": 4,
  "nbformat_minor": 0,
  "metadata": {
    "kernelspec": {
      "display_name": "Python 3",
      "language": "python",
      "name": "python3"
    },
    "language_info": {
      "codemirror_mode": {
        "name": "ipython",
        "version": 3
      },
      "file_extension": ".py",
      "mimetype": "text/x-python",
      "name": "python",
      "nbconvert_exporter": "python",
      "pygments_lexer": "ipython3",
      "version": "3.6.3"
    },
    "colab": {
      "name": "2_feature_extraction.ipynb",
      "provenance": []
    }
  },
  "cells": [
    {
      "cell_type": "markdown",
      "metadata": {
        "id": "atC3Q6QhQN4R"
      },
      "source": [
        "# Feature Extraction I"
      ]
    },
    {
      "cell_type": "code",
      "metadata": {
        "id": "2-UgwdL0QN4V",
        "outputId": "0c703eb6-571a-45e8-b0a2-d544246bdca2",
        "colab": {
          "base_uri": "https://localhost:8080/",
          "height": 334
        }
      },
      "source": [
        "import os\n",
        "\n",
        "import numpy as np\n",
        "import pandas as pd\n",
        "import scipy as sp\n",
        "import scipy.signal\n",
        "import scipy.stats\n",
        "\n",
        "import activity_classifier_utils"
      ],
      "execution_count": 1,
      "outputs": [
        {
          "output_type": "error",
          "ename": "ModuleNotFoundError",
          "evalue": "ignored",
          "traceback": [
            "\u001b[0;31m---------------------------------------------------------------------------\u001b[0m",
            "\u001b[0;31mModuleNotFoundError\u001b[0m                       Traceback (most recent call last)",
            "\u001b[0;32m<ipython-input-1-a9ceff155a38>\u001b[0m in \u001b[0;36m<module>\u001b[0;34m()\u001b[0m\n\u001b[1;32m      7\u001b[0m \u001b[0;32mimport\u001b[0m \u001b[0mscipy\u001b[0m\u001b[0;34m.\u001b[0m\u001b[0mstats\u001b[0m\u001b[0;34m\u001b[0m\u001b[0;34m\u001b[0m\u001b[0m\n\u001b[1;32m      8\u001b[0m \u001b[0;34m\u001b[0m\u001b[0m\n\u001b[0;32m----> 9\u001b[0;31m \u001b[0;32mimport\u001b[0m \u001b[0mactivity_classifier_utils\u001b[0m\u001b[0;34m\u001b[0m\u001b[0;34m\u001b[0m\u001b[0m\n\u001b[0m",
            "\u001b[0;31mModuleNotFoundError\u001b[0m: No module named 'activity_classifier_utils'",
            "",
            "\u001b[0;31m---------------------------------------------------------------------------\u001b[0;32m\nNOTE: If your import is failing due to a missing package, you can\nmanually install dependencies using either !pip or !apt.\n\nTo view examples of installing some common dependencies, click the\n\"Open Examples\" button below.\n\u001b[0;31m---------------------------------------------------------------------------\u001b[0m\n"
          ]
        }
      ]
    },
    {
      "cell_type": "markdown",
      "metadata": {
        "id": "YhPTJtZNQN4V"
      },
      "source": [
        "Load the data"
      ]
    },
    {
      "cell_type": "code",
      "metadata": {
        "id": "D9Vz8Ux-QN4V"
      },
      "source": [
        "fs = 256\n",
        "data = activity_classifier_utils.LoadWristPPGDataset()"
      ],
      "execution_count": null,
      "outputs": []
    },
    {
      "cell_type": "markdown",
      "metadata": {
        "id": "zq9S987rQN4W"
      },
      "source": [
        "### Features\n",
        "Time Domain:\n",
        "* mean\n",
        "* std\n",
        "* 5, 10, 15, 20, 25 percentile\n",
        "* cross-correlation of all pairs of channels\n",
        "* total energy\n",
        "\n",
        "Frequency Domain:\n",
        "* dominant frequency\n",
        "* fraction of energy in each 1Hz bin from 0 to 6 Hz\n",
        "* spectral entropy of each channel - i'll do"
      ]
    },
    {
      "cell_type": "markdown",
      "metadata": {
        "id": "mVcHFRKyQN4W"
      },
      "source": [
        "Low-pass filter at 12 Hz"
      ]
    },
    {
      "cell_type": "code",
      "metadata": {
        "id": "MgMXCr8CQN4W"
      },
      "source": [
        "def LowpassFilter(signal, fs):\n",
        "    b, a = sp.signal.butter(3, 12, btype='lowpass', fs=fs)\n",
        "    return sp.signal.filtfilt(b, a, signal)"
      ],
      "execution_count": null,
      "outputs": []
    },
    {
      "cell_type": "markdown",
      "metadata": {
        "id": "nYooWRVnQN4W"
      },
      "source": [
        "Compute Features"
      ]
    },
    {
      "cell_type": "code",
      "metadata": {
        "id": "dn94oSk3QN4X"
      },
      "source": [
        "def Featurize(accx, accy, accz, fs):\n",
        "    \"\"\"A partial featurization of the accelerometer signal.\n",
        "    \n",
        "    Args:\n",
        "        accx: (np.array) x-channel of the accelerometer.\n",
        "        accy: (np.array) y-channel of the accelerometer.\n",
        "        accz: (np.array) z-channel of the accelerometer.\n",
        "        fs: (number) the sampling rate of the accelerometer\n",
        "        \n",
        "    Returns:\n",
        "        n-tuple of accelerometer features\n",
        "    \"\"\"\n",
        "    \n",
        "    accx = LowpassFilter(accx, fs)\n",
        "    accy = LowpassFilter(accy, fs)\n",
        "    accz = LowpassFilter(accz, fs)\n",
        "    \n",
        "    # The mean of the x-channel\n",
        "    mn_x = np.mean(accx)\n",
        "\n",
        "    # The standard deviation of the x-channel\n",
        "    std_x = np.std(accx)\n",
        "\n",
        "    # The 5th percentile of the x-channel\n",
        "    p5_x = np.percentile(accx, 5)\n",
        "\n",
        "    # The pearson correlation coefficient between the x and y channels\n",
        "    corr_xy = sp.stats.pearsonr(accx, accy)[0]\n",
        "\n",
        "    # The total AC energy of the x-axis\n",
        "    energy_x = np.sum(np.square(accx - np.mean(accx)))\n",
        "    \n",
        "    # Take an FFT of the signal. If the signal is too short, 0-pad it so we have at least 2046 points in the FFT.\n",
        "    fft_len = max(len(accx), 2046)\n",
        "    \n",
        "    # Create an array of frequency bins\n",
        "    fft_freqs = np.fft.rfftfreq(fft_len, 1 / fs)\n",
        "    \n",
        "    # Take an FFT of the centered signal\n",
        "    fft_x = np.fft.rfft(accx - np.mean(accx), fft_len)\n",
        "    \n",
        "    # The frequency with the most power between 0.25 and 12 Hz \n",
        "    low_freqs = (fft_freqs >= 0.25) & (fft_freqs <= 12)    \n",
        "    \n",
        "    # Magnitude of Fourier transform within this window to find dominant frequency\n",
        "    dominant_frequency_x = fft_freqs[np.argmax(np.abs(fft_x)[low_freqs])]\n",
        "\n",
        "    # The fraction of energy between 2 and 3 Hz in the x-channel\n",
        "    spectral_energy_x = np.square(np.abs(fft_x))\n",
        "    energy_23_x = np.sum(spectral_energy_x[(fft_freqs >= 2) & (fft_freqs <= 3)]) / np.sum(spectral_energy_x)\n",
        "    \n",
        "    return (mn_x,\n",
        "            std_x,\n",
        "            p5_x,\n",
        "            corr_xy,\n",
        "            energy_x,\n",
        "            dominant_frequency_x,\n",
        "            energy_23_x)"
      ],
      "execution_count": null,
      "outputs": []
    },
    {
      "cell_type": "markdown",
      "metadata": {
        "id": "guSmMxeEQN4X"
      },
      "source": [
        "## Check The Code"
      ]
    },
    {
      "cell_type": "markdown",
      "metadata": {
        "id": "7IWlBsq7QN4X"
      },
      "source": [
        "Extract a 10 second window of the DataFrame"
      ]
    },
    {
      "cell_type": "code",
      "metadata": {
        "id": "KogLC5c5QN4X"
      },
      "source": [
        "seg = data[0][2].iloc[:fs * 10]"
      ],
      "execution_count": null,
      "outputs": []
    },
    {
      "cell_type": "code",
      "metadata": {
        "id": "RErVPLWjQN4Y"
      },
      "source": [
        "accx = seg.accx.values\n",
        "accy = seg.accy.values\n",
        "accz = seg.accz.values"
      ],
      "execution_count": null,
      "outputs": []
    },
    {
      "cell_type": "code",
      "metadata": {
        "id": "3QXnwzX5QN4Y"
      },
      "source": [
        "Featurize(accx, accy, accz, fs)"
      ],
      "execution_count": null,
      "outputs": []
    }
  ]
}