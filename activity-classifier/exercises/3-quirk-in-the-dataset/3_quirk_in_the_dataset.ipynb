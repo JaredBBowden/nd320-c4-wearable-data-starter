{
  "nbformat": 4,
  "nbformat_minor": 0,
  "metadata": {
    "kernelspec": {
      "display_name": "Python 3",
      "language": "python",
      "name": "python3"
    },
    "language_info": {
      "codemirror_mode": {
        "name": "ipython",
        "version": 3
      },
      "file_extension": ".py",
      "mimetype": "text/x-python",
      "name": "python",
      "nbconvert_exporter": "python",
      "pygments_lexer": "ipython3",
      "version": "3.6.3"
    },
    "colab": {
      "name": "3_quirk_in_the_dataset.ipynb",
      "provenance": []
    }
  },
  "cells": [
    {
      "cell_type": "markdown",
      "metadata": {
        "id": "FeIW9pCs6KeP"
      },
      "source": [
        "# Exercise 3: A Quirk In The Dataset\n",
        "\n",
        "The mean absolute difference of the y-channel can be used as a feature for activity classification. We have previously not used it (ie. it's not in `activity_classifier_utils.Featurize()`. But it is an extremely powerful feature for this  dataset. Build a model that uses ONLY this feature and evaluates its performance.\n",
        "\n",
        "What conclusions can you draw from this?"
      ]
    },
    {
      "cell_type": "markdown",
      "metadata": {
        "id": "SE6aunrs6KeW"
      },
      "source": [
        "Some basic imports. Feel free to make use of more than just these imports."
      ]
    },
    {
      "cell_type": "code",
      "metadata": {
        "id": "YPnMDkQl6KeW"
      },
      "source": [
        "import numpy as np\n",
        "from matplotlib import pyplot as plt\n",
        "from sklearn.ensemble import RandomForestClassifier\n",
        "\n",
        "import activity_classifier_utils"
      ],
      "execution_count": null,
      "outputs": []
    },
    {
      "cell_type": "markdown",
      "metadata": {
        "id": "pMO4n1za6KeX"
      },
      "source": [
        "Load the data"
      ]
    },
    {
      "cell_type": "code",
      "metadata": {
        "id": "67wA2ic36KeX"
      },
      "source": [
        "fs = 256\n",
        "data = activity_classifier_utils.LoadWristPPGDataset()"
      ],
      "execution_count": null,
      "outputs": []
    },
    {
      "cell_type": "markdown",
      "metadata": {
        "id": "17qaznOy6KeY"
      },
      "source": [
        "## Generate Features\n",
        "\n",
        "Use a 10 second non-overlapping window as we have been using and only compute the mean-absolute-difference for each window. Remember to keep track of the labels and subjects as we have been doing so that you can do leave-one-subject-out cross validation. If you get stuck, look at `activity_classifier_utils.GenerateFeatures()` or code from the previous lessons. It should look pretty similar."
      ]
    },
    {
      "cell_type": "code",
      "metadata": {
        "id": "C7wT7Qrv6KeY"
      },
      "source": [
        "window_length_s = 10\n",
        "window_shift_s = 10\n",
        "labels, subjects, features = [], [], []\n",
        "\n",
        "window_length = window_length_s * fs\n",
        "window_shift = window_shift_s * fs\n",
        "\n",
        "# Compute features here\n",
        "for subject, activity, df in data:\n",
        "    for i in range(0, len(df) - window_length, window_shift):\n",
        "        window = df[i: i + window_length]\n",
        "        accx = window.accx.values\n",
        "        accy = window.accy.values\n",
        "        accz = window.accz.values \n",
        "\n",
        "        # Now we're going to compute the new feature\n",
        "        nad_y = np.mean(np.abs(np.diff(accy)))\n",
        "        \n",
        "        features.append(nad_y)\n",
        "        labels.append(activity)\n",
        "        subjects.append(subject)\n",
        "\n",
        "labels = np.array(labels)\n",
        "subjects = np.array(subjects)\n",
        "features = np.array(features).reshape(-1, 1)"
      ],
      "execution_count": null,
      "outputs": []
    },
    {
      "cell_type": "markdown",
      "metadata": {
        "id": "_oR1MPQY6KeY"
      },
      "source": [
        "## Evaluate Model Performance\n",
        "\n",
        "Create a model and use `activity_classifier_utils.LOSOCVPerformance()` to evaluate its performance. Compute the classification accuracy and plot the confusion matrix using `activity_classifier_utils.PlotConfusionMatrix`. See previous videos in this lesson if you get stuck."
      ]
    },
    {
      "cell_type": "code",
      "metadata": {
        "id": "Ovxb9jDC6KeY"
      },
      "source": [
        "class_names = [\"bike\", \"run\", \"walk\"]\n",
        "\n",
        "clf = RandomForestClassifier(n_estimators=100, max_depth=4, random_state=42, class_weight=\"balanced\")\n",
        "\n",
        "cm = activity_classifier_utils.LOSOCVPerformance(features, labels, subjects, clf)\n",
        "\n",
        "\n",
        "activity_classifier_utils.PlotConfusionMatrix(cm, class_names, normalize=True)\n",
        "\n",
        "print(\"Classification accuracy = {:0.2f}\".format(np.sum(np.diag(cm)) / np.sum(np.sum(cm))))"
      ],
      "execution_count": null,
      "outputs": []
    },
    {
      "cell_type": "markdown",
      "metadata": {
        "id": "YTYIa2r06KeZ"
      },
      "source": [
        "## Thoughts?\n",
        "\n",
        "Why is this happening? What does it mean for our activity classification problem?"
      ]
    }
  ]
}